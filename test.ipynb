{
 "cells": [
  {
   "cell_type": "code",
   "execution_count": 2,
   "id": "7d3cb3b5-fb61-44de-ac10-e6ff1bc45a3f",
   "metadata": {},
   "outputs": [],
   "source": [
    "import numpy as np\n",
    "import pandas as pd\n",
    "from scipy import stats"
   ]
  },
  {
   "cell_type": "code",
   "execution_count": 5,
   "id": "92c7727e-b030-4754-b43a-89b20787e8f3",
   "metadata": {},
   "outputs": [],
   "source": [
    "data_group1 = [85, 86, 88, 75, 78, 94, 98, 79, 71, 80]\n",
    "data_group2 = [72, 67, 79, 80, 83, 75, 77, 81, 68, 85]"
   ]
  },
  {
   "cell_type": "code",
   "execution_count": null,
   "id": "3db885a6-c214-40ea-a8b1-539e0df987da",
   "metadata": {},
   "outputs": [],
   "source": [
    "#Independent T-test"
   ]
  },
  {
   "cell_type": "code",
   "execution_count": 6,
   "id": "2f718dea-c292-44af-8859-f17fd794ac9e",
   "metadata": {},
   "outputs": [
    {
     "name": "stdout",
     "output_type": "stream",
     "text": [
      "t-statistic: 2.031962283235235\n",
      "p-value: 0.05718525096328951\n"
     ]
    }
   ],
   "source": [
    "t_statistic, p_value = stats.ttest_ind(data_group1, data_group2)\n",
    "print(\"t-statistic:\", t_statistic)\n",
    "print(\"p-value:\", p_value)"
   ]
  },
  {
   "cell_type": "code",
   "execution_count": 7,
   "id": "14864d74-c006-4058-a3c8-edc8457e47a6",
   "metadata": {},
   "outputs": [],
   "source": [
    "data = {\n",
    "    'Preference': ['Like', 'Dislike'],\n",
    "    'Male': [20, 30],\n",
    "    'Female': [25, 25]\n",
    "}\n",
    "df = pd.DataFrame(data)"
   ]
  },
  {
   "cell_type": "code",
   "execution_count": 8,
   "id": "55ff550d-1f76-426a-9350-6e14b4bcacae",
   "metadata": {},
   "outputs": [
    {
     "name": "stdout",
     "output_type": "stream",
     "text": [
      "Contingency Table:\n",
      " Preference  Like  Dislike\n",
      "Male          20       30\n",
      "Female        25       25\n"
     ]
    }
   ],
   "source": [
    "contingency_table = df.set_index('Preference').T\n",
    "print(\"Contingency Table:\\n\", contingency_table)"
   ]
  },
  {
   "cell_type": "code",
   "execution_count": null,
   "id": "2cb121dd-6bf6-44c6-8c27-fc4dc3318b28",
   "metadata": {},
   "outputs": [],
   "source": [
    "#CHI-SQUARE TEST"
   ]
  },
  {
   "cell_type": "code",
   "execution_count": 9,
   "id": "a4dd73a1-5438-4c4d-b0ab-ba5a9104cb9d",
   "metadata": {},
   "outputs": [
    {
     "name": "stdout",
     "output_type": "stream",
     "text": [
      "Chi2 Stat: 0.6464646464646464\n",
      "p-value: 0.4213795037428696\n",
      "Degrees of Freedom: 1\n",
      "Expected Frequencies:\n",
      " [[22.5 27.5]\n",
      " [22.5 27.5]]\n"
     ]
    }
   ],
   "source": [
    "chi2_stat, p_val, dof, ex = stats.chi2_contingency(contingency_table)\n",
    "print(\"Chi2 Stat:\", chi2_stat)\n",
    "print(\"p-value:\", p_val)\n",
    "print(\"Degrees of Freedom:\", dof)\n",
    "print(\"Expected Frequencies:\\n\", ex)"
   ]
  },
  {
   "cell_type": "code",
   "execution_count": null,
   "id": "1dfdebf2-4452-4212-8e34-38d44dee278b",
   "metadata": {},
   "outputs": [],
   "source": []
  }
 ],
 "metadata": {
  "kernelspec": {
   "display_name": "Python 3 (ipykernel)",
   "language": "python",
   "name": "python3"
  },
  "language_info": {
   "codemirror_mode": {
    "name": "ipython",
    "version": 3
   },
   "file_extension": ".py",
   "mimetype": "text/x-python",
   "name": "python",
   "nbconvert_exporter": "python",
   "pygments_lexer": "ipython3",
   "version": "3.12.4"
  }
 },
 "nbformat": 4,
 "nbformat_minor": 5
}
